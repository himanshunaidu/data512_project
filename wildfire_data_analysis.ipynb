{
 "cells": [
  {
   "cell_type": "markdown",
   "metadata": {},
   "source": [
    "# Wildland Fire Data Analysis\n",
    "\n",
    "The goal of this notebook is to analysis wildland fires for Indianapolis, Indiana. "
   ]
  },
  {
   "cell_type": "code",
   "execution_count": 1,
   "metadata": {},
   "outputs": [],
   "source": [
    "#########\n",
    "#\n",
    "#    IMPORTS\n",
    "#\n",
    "\n",
    "# In-built libraries\n",
    "import os\n",
    "import json\n",
    "\n",
    "# Third-party libraries\n",
    "import numpy as np\n",
    "import pandas as pd\n",
    "import geopandas as gpd\n",
    "\n",
    "# Other third-party libraries\n",
    "import copy\n",
    "import fiona\n",
    "from shapely.geometry import Polygon, Point\n",
    "import contextily as cx\n",
    "import folium.folium\n",
    "import matplotlib.pyplot as plt\n",
    "from geopandas.explore import _categorical_legend\n",
    "from folium.plugins import Geocoder\n",
    "from matplotlib.colors import rgb2hex\n",
    "\n",
    "# Local libraries\n",
    "from utils import plot_gdf, explore_gdf"
   ]
  },
  {
   "cell_type": "code",
   "execution_count": 9,
   "metadata": {},
   "outputs": [],
   "source": [
    "#########\n",
    "#\n",
    "#    CONSTANTS\n",
    "#\n",
    "FIRE_ANNUAL_SMOKE_ESTIMATES_PATH = \"final/fire_annual_smoke_estimates.csv\"\n",
    "AQI_ANNUAL_ESTIMATES_PATH = \"final/aqi_annual_estimates.csv\"\n",
    "\n",
    "FILTERED_FIRE_FEATURES_PATH = \"intermediate/filtered_fire_features.geojson\"\n",
    "\n",
    "DATA_PATH = \"data/Fire_Feature/Fire_Feature_Data.gdb\""
   ]
  },
  {
   "cell_type": "markdown",
   "metadata": {},
   "source": [
    "## Load the Data"
   ]
  },
  {
   "cell_type": "code",
   "execution_count": 6,
   "metadata": {},
   "outputs": [],
   "source": [
    "filtered_fire_features_gdf = gpd.read_file(FILTERED_FIRE_FEATURES_PATH)"
   ]
  },
  {
   "cell_type": "code",
   "execution_count": 10,
   "metadata": {},
   "outputs": [],
   "source": [
    "fire_annual_smoke_estimates_df = pd.read_csv(FIRE_ANNUAL_SMOKE_ESTIMATES_PATH)"
   ]
  },
  {
   "cell_type": "code",
   "execution_count": null,
   "metadata": {},
   "outputs": [],
   "source": []
  }
 ],
 "metadata": {
  "kernelspec": {
   "display_name": "data512",
   "language": "python",
   "name": "python3"
  },
  "language_info": {
   "codemirror_mode": {
    "name": "ipython",
    "version": 3
   },
   "file_extension": ".py",
   "mimetype": "text/x-python",
   "name": "python",
   "nbconvert_exporter": "python",
   "pygments_lexer": "ipython3",
   "version": "3.12.7"
  }
 },
 "nbformat": 4,
 "nbformat_minor": 2
}
